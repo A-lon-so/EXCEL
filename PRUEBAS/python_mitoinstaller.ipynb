{
 "cells": [
  {
   "cell_type": "code",
   "execution_count": 2,
   "metadata": {},
   "outputs": [],
   "source": [
    "#!python -m pip install mitoinstaller\n",
    "#!python -m mitoinstaller install"
   ]
  },
  {
   "cell_type": "markdown",
   "metadata": {},
   "source": [
    "import mitosheet\n",
    "mitosheet.sheet()"
   ]
  },
  {
   "cell_type": "code",
   "execution_count": 3,
   "metadata": {},
   "outputs": [],
   "source": [
    "import mitosheet"
   ]
  },
  {
   "cell_type": "code",
   "execution_count": 4,
   "metadata": {},
   "outputs": [
    {
     "ename": "Exception",
     "evalue": "The mitosheet currently only works in JupyterLab.\n\nTo see instructions on getting Mitosheet running in JupyterLab, find install instructions here: https://docs.trymito.io/getting-started/installing-mito",
     "output_type": "error",
     "traceback": [
      "\u001b[1;31m---------------------------------------------------------------------------\u001b[0m",
      "\u001b[1;31mException\u001b[0m                                 Traceback (most recent call last)",
      "Cell \u001b[1;32mIn[4], line 1\u001b[0m\n\u001b[1;32m----> 1\u001b[0m mitosheet\u001b[39m.\u001b[39;49msheet()\n",
      "File \u001b[1;32mc:\\Users\\User\\AppData\\Local\\Programs\\Python\\Python310\\lib\\site-packages\\mitosheet\\mito_backend.py:366\u001b[0m, in \u001b[0;36msheet\u001b[1;34m(analysis_to_replay, view_df, sheet_functions, importers, *args)\u001b[0m\n\u001b[0;32m    364\u001b[0m \u001b[39mif\u001b[39;00m is_in_vs_code() \u001b[39mor\u001b[39;00m is_in_google_colab():\n\u001b[0;32m    365\u001b[0m     log(\u001b[39m'\u001b[39m\u001b[39mmitosheet_sheet_call_location_failed\u001b[39m\u001b[39m'\u001b[39m, failed\u001b[39m=\u001b[39m\u001b[39mTrue\u001b[39;00m)\n\u001b[1;32m--> 366\u001b[0m     \u001b[39mraise\u001b[39;00m \u001b[39mException\u001b[39;00m(\u001b[39m\"\u001b[39m\u001b[39mThe mitosheet currently only works in JupyterLab.\u001b[39m\u001b[39m\\n\u001b[39;00m\u001b[39m\\n\u001b[39;00m\u001b[39mTo see instructions on getting Mitosheet running in JupyterLab, find install instructions here: https://docs.trymito.io/getting-started/installing-mito\u001b[39m\u001b[39m\"\u001b[39m)\n\u001b[0;32m    369\u001b[0m \u001b[39m# If the user.json does not exist, we create it. This ensures if the file is deleted in between\u001b[39;00m\n\u001b[0;32m    370\u001b[0m \u001b[39m# when the package is imported and mitosheet.sheet is called, the user still gets a user.json. \u001b[39;00m\n\u001b[0;32m    371\u001b[0m \u001b[39m# We don't need to upgrade as creating the file will automatically use the most recent version\u001b[39;00m\n\u001b[0;32m    372\u001b[0m \u001b[39mif\u001b[39;00m \u001b[39mnot\u001b[39;00m os\u001b[39m.\u001b[39mpath\u001b[39m.\u001b[39mexists(USER_JSON_PATH):\n",
      "\u001b[1;31mException\u001b[0m: The mitosheet currently only works in JupyterLab.\n\nTo see instructions on getting Mitosheet running in JupyterLab, find install instructions here: https://docs.trymito.io/getting-started/installing-mito"
     ]
    }
   ],
   "source": [
    "mitosheet.sheet()"
   ]
  }
 ],
 "metadata": {
  "kernelspec": {
   "display_name": "Python 3",
   "language": "python",
   "name": "python3"
  },
  "language_info": {
   "codemirror_mode": {
    "name": "ipython",
    "version": 3
   },
   "file_extension": ".py",
   "mimetype": "text/x-python",
   "name": "python",
   "nbconvert_exporter": "python",
   "pygments_lexer": "ipython3",
   "version": "3.10.4"
  },
  "orig_nbformat": 4
 },
 "nbformat": 4,
 "nbformat_minor": 2
}
