{
 "cells": [
  {
   "cell_type": "code",
   "execution_count": 49,
   "metadata": {},
   "outputs": [],
   "source": [
    "import pandas as pd\n",
    "import numpy as np\n",
    "import matplotlib.pyplot as plt\n"
   ]
  },
  {
   "cell_type": "code",
   "execution_count": 50,
   "metadata": {},
   "outputs": [],
   "source": [
    "basepath = \"C:/Works/EXCEL AVANZADO/EXCEL/PRUEBAS\""
   ]
  },
  {
   "cell_type": "code",
   "execution_count": 51,
   "metadata": {},
   "outputs": [],
   "source": [
    "archivo1 = basepath + \"/PLAY.xlsx\"\n",
    "archivo2 = basepath + \"/PLAYERS.xlsx\""
   ]
  },
  {
   "cell_type": "code",
   "execution_count": 52,
   "metadata": {},
   "outputs": [],
   "source": [
    "dfplayers = pd.read_excel(archivo1, sheet_name= \"Player1\")\n",
    "dfplayers1 = pd.read_excel(archivo2, sheet_name= \"Player2\")\n",
    "dfplayers2 = pd.read_excel(archivo2, sheet_name= \"Player3\")\n"
   ]
  },
  {
   "cell_type": "code",
   "execution_count": 53,
   "metadata": {},
   "outputs": [],
   "source": [
    "dftodos = pd.concat([dfplayers,dfplayers1,dfplayers2])"
   ]
  },
  {
   "cell_type": "code",
   "execution_count": 54,
   "metadata": {},
   "outputs": [
    {
     "data": {
      "text/plain": [
       "<bound method DataFrame.info of              Name    Type 1  Type 2    HP  Attack  Defense  \\\n",
       "0            Abra   Psychic     NaN  25.0    20.0     15.0   \n",
       "1         Kadabra   Psychic     NaN  40.0    35.0     30.0   \n",
       "2        Alakazam   Psychic     NaN  55.0    50.0     45.0   \n",
       "3          Machop  Fighting     NaN  70.0    80.0     50.0   \n",
       "4         Machoke  Fighting     NaN  80.0   100.0     70.0   \n",
       "5         Machamp  Fighting     NaN  90.0   130.0     80.0   \n",
       "6      Bellsprout     Grass  Poison  50.0    75.0     35.0   \n",
       "7      Weepinbell     Grass  Poison  65.0    90.0     50.0   \n",
       "0             NaN       NaN     NaN   NaN     NaN      NaN   \n",
       "1             NaN       NaN     NaN   NaN     NaN      NaN   \n",
       "2             NaN       NaN     NaN   NaN     NaN      NaN   \n",
       "3             NaN       NaN     NaN   NaN     NaN      NaN   \n",
       "4             NaN       NaN     NaN   NaN     NaN      NaN   \n",
       "5             NaN       NaN     NaN   NaN     NaN      NaN   \n",
       "6             NaN       NaN     NaN   NaN     NaN      NaN   \n",
       "7             NaN       NaN     NaN   NaN     NaN      NaN   \n",
       "8             NaN       NaN     NaN   NaN     NaN      NaN   \n",
       "0             NaN       NaN     NaN   NaN     NaN      NaN   \n",
       "1             NaN       NaN     NaN   NaN     NaN      NaN   \n",
       "\n",
       "                Victreebel  Grass   Poison    80    105     65  \\\n",
       "0                      NaN    NaN      NaN   NaN    NaN    NaN   \n",
       "1                      NaN    NaN      NaN   NaN    NaN    NaN   \n",
       "2                      NaN    NaN      NaN   NaN    NaN    NaN   \n",
       "3                      NaN    NaN      NaN   NaN    NaN    NaN   \n",
       "4                      NaN    NaN      NaN   NaN    NaN    NaN   \n",
       "5                      NaN    NaN      NaN   NaN    NaN    NaN   \n",
       "6                      NaN    NaN      NaN   NaN    NaN    NaN   \n",
       "7                      NaN    NaN      NaN   NaN    NaN    NaN   \n",
       "0                Tentacool  Water   Poison  40.0   40.0   35.0   \n",
       "1               Tentacruel  Water   Poison  80.0   70.0   65.0   \n",
       "2                  Geodude   Rock   Ground  40.0   80.0  100.0   \n",
       "3                 Graveler   Rock   Ground  55.0   95.0  115.0   \n",
       "4                    Golem   Rock   Ground  80.0  120.0  130.0   \n",
       "5                   Ponyta   Fire      NaN  50.0   85.0   55.0   \n",
       "6                 Rapidash   Fire      NaN  65.0  100.0   70.0   \n",
       "7                 Slowpoke  Water  Psychic  90.0   65.0   65.0   \n",
       "8      SlowbroMega Slowbro  Water  Psychic  95.0   75.0  110.0   \n",
       "0                      NaN    NaN      NaN   NaN    NaN    NaN   \n",
       "1                      NaN    NaN      NaN   NaN    NaN    NaN   \n",
       "\n",
       "        Magnemite  Electric   Steel    25    35    70  \n",
       "0             NaN       NaN     NaN   NaN   NaN   NaN  \n",
       "1             NaN       NaN     NaN   NaN   NaN   NaN  \n",
       "2             NaN       NaN     NaN   NaN   NaN   NaN  \n",
       "3             NaN       NaN     NaN   NaN   NaN   NaN  \n",
       "4             NaN       NaN     NaN   NaN   NaN   NaN  \n",
       "5             NaN       NaN     NaN   NaN   NaN   NaN  \n",
       "6             NaN       NaN     NaN   NaN   NaN   NaN  \n",
       "7             NaN       NaN     NaN   NaN   NaN   NaN  \n",
       "0             NaN       NaN     NaN   NaN   NaN   NaN  \n",
       "1             NaN       NaN     NaN   NaN   NaN   NaN  \n",
       "2             NaN       NaN     NaN   NaN   NaN   NaN  \n",
       "3             NaN       NaN     NaN   NaN   NaN   NaN  \n",
       "4             NaN       NaN     NaN   NaN   NaN   NaN  \n",
       "5             NaN       NaN     NaN   NaN   NaN   NaN  \n",
       "6             NaN       NaN     NaN   NaN   NaN   NaN  \n",
       "7             NaN       NaN     NaN   NaN   NaN   NaN  \n",
       "8             NaN       NaN     NaN   NaN   NaN   NaN  \n",
       "0        Magneton  Electric   Steel  50.0  60.0  95.0  \n",
       "1      Farfetch'd    Normal  Flying  52.0  65.0  55.0  >"
      ]
     },
     "execution_count": 54,
     "metadata": {},
     "output_type": "execute_result"
    }
   ],
   "source": [
    "dftodos.info"
   ]
  },
  {
   "cell_type": "code",
   "execution_count": 55,
   "metadata": {},
   "outputs": [
    {
     "data": {
      "text/plain": [
       "Index([      '    Name',         'Type 1',         'Type 2',             'HP',\n",
       "               'Attack',        'Defense', '    Victreebel',          'Grass',\n",
       "               'Poison',               80,              105,               65,\n",
       "        '    Magnemite',       'Electric',          'Steel',               25,\n",
       "                     35,               70],\n",
       "      dtype='object')"
      ]
     },
     "execution_count": 55,
     "metadata": {},
     "output_type": "execute_result"
    }
   ],
   "source": [
    "dftodos.columns\n"
   ]
  },
  {
   "cell_type": "code",
   "execution_count": 56,
   "metadata": {},
   "outputs": [],
   "source": [
    "tdinamica = dftodos.groupby([\"Type 1\"]).sum()"
   ]
  },
  {
   "cell_type": "code",
   "execution_count": 57,
   "metadata": {},
   "outputs": [
    {
     "data": {
      "text/html": [
       "<div>\n",
       "<style scoped>\n",
       "    .dataframe tbody tr th:only-of-type {\n",
       "        vertical-align: middle;\n",
       "    }\n",
       "\n",
       "    .dataframe tbody tr th {\n",
       "        vertical-align: top;\n",
       "    }\n",
       "\n",
       "    .dataframe thead th {\n",
       "        text-align: right;\n",
       "    }\n",
       "</style>\n",
       "<table border=\"1\" class=\"dataframe\">\n",
       "  <thead>\n",
       "    <tr style=\"text-align: right;\">\n",
       "      <th></th>\n",
       "      <th>Name</th>\n",
       "      <th>Type 2</th>\n",
       "      <th>HP</th>\n",
       "      <th>Attack</th>\n",
       "      <th>Defense</th>\n",
       "      <th>Victreebel</th>\n",
       "      <th>Grass</th>\n",
       "      <th>Poison</th>\n",
       "      <th>80</th>\n",
       "      <th>105</th>\n",
       "      <th>65</th>\n",
       "      <th>Magnemite</th>\n",
       "      <th>Electric</th>\n",
       "      <th>Steel</th>\n",
       "      <th>25</th>\n",
       "      <th>35</th>\n",
       "      <th>70</th>\n",
       "    </tr>\n",
       "    <tr>\n",
       "      <th>Type 1</th>\n",
       "      <th></th>\n",
       "      <th></th>\n",
       "      <th></th>\n",
       "      <th></th>\n",
       "      <th></th>\n",
       "      <th></th>\n",
       "      <th></th>\n",
       "      <th></th>\n",
       "      <th></th>\n",
       "      <th></th>\n",
       "      <th></th>\n",
       "      <th></th>\n",
       "      <th></th>\n",
       "      <th></th>\n",
       "      <th></th>\n",
       "      <th></th>\n",
       "      <th></th>\n",
       "    </tr>\n",
       "  </thead>\n",
       "  <tbody>\n",
       "    <tr>\n",
       "      <th>Fighting</th>\n",
       "      <td>Machop    Machoke    Machamp</td>\n",
       "      <td>0</td>\n",
       "      <td>240.0</td>\n",
       "      <td>310.0</td>\n",
       "      <td>200.0</td>\n",
       "      <td>0</td>\n",
       "      <td>0</td>\n",
       "      <td>0</td>\n",
       "      <td>0.0</td>\n",
       "      <td>0.0</td>\n",
       "      <td>0.0</td>\n",
       "      <td>0</td>\n",
       "      <td>0</td>\n",
       "      <td>0</td>\n",
       "      <td>0.0</td>\n",
       "      <td>0.0</td>\n",
       "      <td>0.0</td>\n",
       "    </tr>\n",
       "    <tr>\n",
       "      <th>Grass</th>\n",
       "      <td>Bellsprout    Weepinbell</td>\n",
       "      <td>PoisonPoison</td>\n",
       "      <td>115.0</td>\n",
       "      <td>165.0</td>\n",
       "      <td>85.0</td>\n",
       "      <td>0</td>\n",
       "      <td>0</td>\n",
       "      <td>0</td>\n",
       "      <td>0.0</td>\n",
       "      <td>0.0</td>\n",
       "      <td>0.0</td>\n",
       "      <td>0</td>\n",
       "      <td>0</td>\n",
       "      <td>0</td>\n",
       "      <td>0.0</td>\n",
       "      <td>0.0</td>\n",
       "      <td>0.0</td>\n",
       "    </tr>\n",
       "    <tr>\n",
       "      <th>Psychic</th>\n",
       "      <td>Abra    Kadabra    Alakazam</td>\n",
       "      <td>0</td>\n",
       "      <td>120.0</td>\n",
       "      <td>105.0</td>\n",
       "      <td>90.0</td>\n",
       "      <td>0</td>\n",
       "      <td>0</td>\n",
       "      <td>0</td>\n",
       "      <td>0.0</td>\n",
       "      <td>0.0</td>\n",
       "      <td>0.0</td>\n",
       "      <td>0</td>\n",
       "      <td>0</td>\n",
       "      <td>0</td>\n",
       "      <td>0.0</td>\n",
       "      <td>0.0</td>\n",
       "      <td>0.0</td>\n",
       "    </tr>\n",
       "  </tbody>\n",
       "</table>\n",
       "</div>"
      ],
      "text/plain": [
       "                                      Name        Type 2     HP  Attack  \\\n",
       "Type 1                                                                    \n",
       "Fighting      Machop    Machoke    Machamp             0  240.0   310.0   \n",
       "Grass             Bellsprout    Weepinbell  PoisonPoison  115.0   165.0   \n",
       "Psychic        Abra    Kadabra    Alakazam             0  120.0   105.0   \n",
       "\n",
       "          Defense     Victreebel Grass Poison   80  105   65     Magnemite  \\\n",
       "Type 1                                                                       \n",
       "Fighting    200.0              0     0      0  0.0  0.0  0.0             0   \n",
       "Grass        85.0              0     0      0  0.0  0.0  0.0             0   \n",
       "Psychic      90.0              0     0      0  0.0  0.0  0.0             0   \n",
       "\n",
       "         Electric Steel   25   35   70  \n",
       "Type 1                                  \n",
       "Fighting        0     0  0.0  0.0  0.0  \n",
       "Grass           0     0  0.0  0.0  0.0  \n",
       "Psychic         0     0  0.0  0.0  0.0  "
      ]
     },
     "execution_count": 57,
     "metadata": {},
     "output_type": "execute_result"
    }
   ],
   "source": [
    "tdinamica"
   ]
  },
  {
   "cell_type": "code",
   "execution_count": 58,
   "metadata": {},
   "outputs": [],
   "source": [
    "ataquetotal = tdinamica[[\"HP\", \"Attack\"]]"
   ]
  },
  {
   "cell_type": "code",
   "execution_count": 59,
   "metadata": {},
   "outputs": [
    {
     "data": {
      "text/html": [
       "<div>\n",
       "<style scoped>\n",
       "    .dataframe tbody tr th:only-of-type {\n",
       "        vertical-align: middle;\n",
       "    }\n",
       "\n",
       "    .dataframe tbody tr th {\n",
       "        vertical-align: top;\n",
       "    }\n",
       "\n",
       "    .dataframe thead th {\n",
       "        text-align: right;\n",
       "    }\n",
       "</style>\n",
       "<table border=\"1\" class=\"dataframe\">\n",
       "  <thead>\n",
       "    <tr style=\"text-align: right;\">\n",
       "      <th></th>\n",
       "      <th>HP</th>\n",
       "      <th>Attack</th>\n",
       "    </tr>\n",
       "    <tr>\n",
       "      <th>Type 1</th>\n",
       "      <th></th>\n",
       "      <th></th>\n",
       "    </tr>\n",
       "  </thead>\n",
       "  <tbody>\n",
       "    <tr>\n",
       "      <th>Fighting</th>\n",
       "      <td>240.0</td>\n",
       "      <td>310.0</td>\n",
       "    </tr>\n",
       "    <tr>\n",
       "      <th>Grass</th>\n",
       "      <td>115.0</td>\n",
       "      <td>165.0</td>\n",
       "    </tr>\n",
       "    <tr>\n",
       "      <th>Psychic</th>\n",
       "      <td>120.0</td>\n",
       "      <td>105.0</td>\n",
       "    </tr>\n",
       "  </tbody>\n",
       "</table>\n",
       "</div>"
      ],
      "text/plain": [
       "             HP  Attack\n",
       "Type 1                 \n",
       "Fighting  240.0   310.0\n",
       "Grass     115.0   165.0\n",
       "Psychic   120.0   105.0"
      ]
     },
     "execution_count": 59,
     "metadata": {},
     "output_type": "execute_result"
    }
   ],
   "source": [
    "ataquetotal"
   ]
  },
  {
   "cell_type": "code",
   "execution_count": 62,
   "metadata": {},
   "outputs": [
    {
     "data": {
      "image/png": "[encoded data removed]",
      "text/plain": [
       "<Figure size 640x480 with 1 Axes>"
      ]
     },
     "metadata": {},
     "output_type": "display_data"
    }
   ],
   "source": [
    "ataquetotal.plot(kind= \"bar\")\n",
    "plt.show()"
   ]
  },
  {
   "cell_type": "code",
   "execution_count": 63,
   "metadata": {},
   "outputs": [],
   "source": [
    "dftodos.to_excel(\"Total Players1.xlsx\")"
   ]
  }
 ],
 "metadata": {
  "kernelspec": {
   "display_name": "Python 3",
   "language": "python",
   "name": "python3"
  },
  "language_info": {
   "codemirror_mode": {
    "name": "ipython",
    "version": 3
   },
   "file_extension": ".py",
   "mimetype": "text/x-python",
   "name": "python",
   "nbconvert_exporter": "python",
   "pygments_lexer": "ipython3",
   "version": "3.10.4"
  },
  "orig_nbformat": 4,
  "vscode": {
   "interpreter": {
    "hash": "8a5edab282632443219e051e4ade2d1d5bbc671c781051bf1437897cbdfea0f1"
   }
  }
 },
 "nbformat": 4,
 "nbformat_minor": 2
}
