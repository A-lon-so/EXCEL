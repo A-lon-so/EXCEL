{
 "cells": [
  {
   "cell_type": "code",
   "execution_count": 2,
   "metadata": {},
   "outputs": [],
   "source": [
    "import pandas as pd\n",
    "import numpy as np\n",
    "import matplotlib.pyplot as plt\n"
   ]
  },
  {
   "cell_type": "code",
   "execution_count": 3,
   "metadata": {},
   "outputs": [],
   "source": [
    "basepath = \"C:/Works/EXCEL AVANZADO/EXCEL/PRUEBAS\""
   ]
  },
  {
   "cell_type": "code",
   "execution_count": 4,
   "metadata": {},
   "outputs": [],
   "source": [
    "archivo1 = basepath + \"/PLAY.xlsx\"\n",
    "archivo2 = basepath + \"/PLAYERS.xlsx\""
   ]
  },
  {
   "cell_type": "code",
   "execution_count": 5,
   "metadata": {},
   "outputs": [],
   "source": [
    "dfplayers = pd.read_excel(archivo1, sheet_name= \"Player1\")\n",
    "dfplayers1 = pd.read_excel(archivo2, sheet_name= \"Player2\")\n",
    "dfplayers2 = pd.read_excel(archivo2, sheet_name= \"Player3\")\n"
   ]
  },
  {
   "cell_type": "code",
   "execution_count": 6,
   "metadata": {},
   "outputs": [],
   "source": [
    "dftodos = pd.concat([dfplayers,dfplayers1,dfplayers2])"
   ]
  },
  {
   "cell_type": "code",
   "execution_count": 7,
   "metadata": {},
   "outputs": [
    {
     "data": {
      "text/plain": [
       "<bound method DataFrame.info of                       Name    Type 1   Type 2  HP  Attack  Defense\n",
       "0                     Abra   Psychic      NaN  25      20       15\n",
       "1                  Kadabra   Psychic      NaN  40      35       30\n",
       "2                 Alakazam   Psychic      NaN  55      50       45\n",
       "3                   Machop  Fighting      NaN  70      80       50\n",
       "4                  Machoke  Fighting      NaN  80     100       70\n",
       "5                  Machamp  Fighting      NaN  90     130       80\n",
       "6               Bellsprout     Grass   Poison  50      75       35\n",
       "7               Weepinbell     Grass   Poison  65      90       50\n",
       "0               Victreebel     Grass   Poison  80     105       65\n",
       "1                Tentacool     Water   Poison  40      40       35\n",
       "2               Tentacruel     Water   Poison  80      70       65\n",
       "3                  Geodude      Rock   Ground  40      80      100\n",
       "4                 Graveler      Rock   Ground  55      95      115\n",
       "5                    Golem      Rock   Ground  80     120      130\n",
       "6                   Ponyta      Fire      NaN  50      85       55\n",
       "7                 Rapidash      Fire      NaN  65     100       70\n",
       "8                 Slowpoke     Water  Psychic  90      65       65\n",
       "9      SlowbroMega Slowbro     Water  Psychic  95      75      110\n",
       "0                Magnemite  Electric    Steel  25      35       70\n",
       "1                 Magneton  Electric    Steel  50      60       95\n",
       "2               Farfetch'd    Normal   Flying  52      65       55>"
      ]
     },
     "execution_count": 7,
     "metadata": {},
     "output_type": "execute_result"
    }
   ],
   "source": [
    "dftodos.info"
   ]
  },
  {
   "cell_type": "code",
   "execution_count": 8,
   "metadata": {},
   "outputs": [
    {
     "data": {
      "text/plain": [
       "Index(['    Name', 'Type 1', 'Type 2', 'HP', 'Attack', 'Defense'], dtype='object')"
      ]
     },
     "execution_count": 8,
     "metadata": {},
     "output_type": "execute_result"
    }
   ],
   "source": [
    "dftodos.columns\n"
   ]
  },
  {
   "cell_type": "code",
   "execution_count": 9,
   "metadata": {},
   "outputs": [],
   "source": [
    "tdinamica = dftodos.groupby([\"Type 1\"]).sum()"
   ]
  },
  {
   "cell_type": "code",
   "execution_count": 10,
   "metadata": {},
   "outputs": [
    {
     "data": {
      "text/html": [
       "<div>\n",
       "<style scoped>\n",
       "    .dataframe tbody tr th:only-of-type {\n",
       "        vertical-align: middle;\n",
       "    }\n",
       "\n",
       "    .dataframe tbody tr th {\n",
       "        vertical-align: top;\n",
       "    }\n",
       "\n",
       "    .dataframe thead th {\n",
       "        text-align: right;\n",
       "    }\n",
       "</style>\n",
       "<table border=\"1\" class=\"dataframe\">\n",
       "  <thead>\n",
       "    <tr style=\"text-align: right;\">\n",
       "      <th></th>\n",
       "      <th>Name</th>\n",
       "      <th>Type 2</th>\n",
       "      <th>HP</th>\n",
       "      <th>Attack</th>\n",
       "      <th>Defense</th>\n",
       "    </tr>\n",
       "    <tr>\n",
       "      <th>Type 1</th>\n",
       "      <th></th>\n",
       "      <th></th>\n",
       "      <th></th>\n",
       "      <th></th>\n",
       "      <th></th>\n",
       "    </tr>\n",
       "  </thead>\n",
       "  <tbody>\n",
       "    <tr>\n",
       "      <th>Electric</th>\n",
       "      <td>Magnemite    Magneton</td>\n",
       "      <td>SteelSteel</td>\n",
       "      <td>75</td>\n",
       "      <td>95</td>\n",
       "      <td>165</td>\n",
       "    </tr>\n",
       "    <tr>\n",
       "      <th>Fighting</th>\n",
       "      <td>Machop    Machoke    Machamp</td>\n",
       "      <td>0</td>\n",
       "      <td>240</td>\n",
       "      <td>310</td>\n",
       "      <td>200</td>\n",
       "    </tr>\n",
       "    <tr>\n",
       "      <th>Fire</th>\n",
       "      <td>Ponyta    Rapidash</td>\n",
       "      <td>0</td>\n",
       "      <td>115</td>\n",
       "      <td>185</td>\n",
       "      <td>125</td>\n",
       "    </tr>\n",
       "    <tr>\n",
       "      <th>Grass</th>\n",
       "      <td>Bellsprout    Weepinbell    Victreebel</td>\n",
       "      <td>PoisonPoisonPoison</td>\n",
       "      <td>195</td>\n",
       "      <td>270</td>\n",
       "      <td>150</td>\n",
       "    </tr>\n",
       "    <tr>\n",
       "      <th>Normal</th>\n",
       "      <td>Farfetch'd</td>\n",
       "      <td>Flying</td>\n",
       "      <td>52</td>\n",
       "      <td>65</td>\n",
       "      <td>55</td>\n",
       "    </tr>\n",
       "    <tr>\n",
       "      <th>Psychic</th>\n",
       "      <td>Abra    Kadabra    Alakazam</td>\n",
       "      <td>0</td>\n",
       "      <td>120</td>\n",
       "      <td>105</td>\n",
       "      <td>90</td>\n",
       "    </tr>\n",
       "    <tr>\n",
       "      <th>Rock</th>\n",
       "      <td>Geodude    Graveler    Golem</td>\n",
       "      <td>GroundGroundGround</td>\n",
       "      <td>175</td>\n",
       "      <td>295</td>\n",
       "      <td>345</td>\n",
       "    </tr>\n",
       "    <tr>\n",
       "      <th>Water</th>\n",
       "      <td>Tentacool    Tentacruel    Slowpoke    Slo...</td>\n",
       "      <td>PoisonPoisonPsychicPsychic</td>\n",
       "      <td>305</td>\n",
       "      <td>250</td>\n",
       "      <td>275</td>\n",
       "    </tr>\n",
       "  </tbody>\n",
       "</table>\n",
       "</div>"
      ],
      "text/plain": [
       "                                                       Name  \\\n",
       "Type 1                                                        \n",
       "Electric                              Magnemite    Magneton   \n",
       "Fighting                       Machop    Machoke    Machamp   \n",
       "Fire                                     Ponyta    Rapidash   \n",
       "Grass                Bellsprout    Weepinbell    Victreebel   \n",
       "Normal                                           Farfetch'd   \n",
       "Psychic                         Abra    Kadabra    Alakazam   \n",
       "Rock                           Geodude    Graveler    Golem   \n",
       "Water         Tentacool    Tentacruel    Slowpoke    Slo...   \n",
       "\n",
       "                              Type 2   HP  Attack  Defense  \n",
       "Type 1                                                      \n",
       "Electric                  SteelSteel   75      95      165  \n",
       "Fighting                           0  240     310      200  \n",
       "Fire                               0  115     185      125  \n",
       "Grass             PoisonPoisonPoison  195     270      150  \n",
       "Normal                        Flying   52      65       55  \n",
       "Psychic                            0  120     105       90  \n",
       "Rock              GroundGroundGround  175     295      345  \n",
       "Water     PoisonPoisonPsychicPsychic  305     250      275  "
      ]
     },
     "execution_count": 10,
     "metadata": {},
     "output_type": "execute_result"
    }
   ],
   "source": [
    "tdinamica"
   ]
  },
  {
   "cell_type": "code",
   "execution_count": 11,
   "metadata": {},
   "outputs": [],
   "source": [
    "ataquetotal = tdinamica[[\"HP\", \"Attack\"]]"
   ]
  },
  {
   "cell_type": "code",
   "execution_count": 12,
   "metadata": {},
   "outputs": [
    {
     "data": {
      "text/html": [
       "<div>\n",
       "<style scoped>\n",
       "    .dataframe tbody tr th:only-of-type {\n",
       "        vertical-align: middle;\n",
       "    }\n",
       "\n",
       "    .dataframe tbody tr th {\n",
       "        vertical-align: top;\n",
       "    }\n",
       "\n",
       "    .dataframe thead th {\n",
       "        text-align: right;\n",
       "    }\n",
       "</style>\n",
       "<table border=\"1\" class=\"dataframe\">\n",
       "  <thead>\n",
       "    <tr style=\"text-align: right;\">\n",
       "      <th></th>\n",
       "      <th>HP</th>\n",
       "      <th>Attack</th>\n",
       "    </tr>\n",
       "    <tr>\n",
       "      <th>Type 1</th>\n",
       "      <th></th>\n",
       "      <th></th>\n",
       "    </tr>\n",
       "  </thead>\n",
       "  <tbody>\n",
       "    <tr>\n",
       "      <th>Electric</th>\n",
       "      <td>75</td>\n",
       "      <td>95</td>\n",
       "    </tr>\n",
       "    <tr>\n",
       "      <th>Fighting</th>\n",
       "      <td>240</td>\n",
       "      <td>310</td>\n",
       "    </tr>\n",
       "    <tr>\n",
       "      <th>Fire</th>\n",
       "      <td>115</td>\n",
       "      <td>185</td>\n",
       "    </tr>\n",
       "    <tr>\n",
       "      <th>Grass</th>\n",
       "      <td>195</td>\n",
       "      <td>270</td>\n",
       "    </tr>\n",
       "    <tr>\n",
       "      <th>Normal</th>\n",
       "      <td>52</td>\n",
       "      <td>65</td>\n",
       "    </tr>\n",
       "    <tr>\n",
       "      <th>Psychic</th>\n",
       "      <td>120</td>\n",
       "      <td>105</td>\n",
       "    </tr>\n",
       "    <tr>\n",
       "      <th>Rock</th>\n",
       "      <td>175</td>\n",
       "      <td>295</td>\n",
       "    </tr>\n",
       "    <tr>\n",
       "      <th>Water</th>\n",
       "      <td>305</td>\n",
       "      <td>250</td>\n",
       "    </tr>\n",
       "  </tbody>\n",
       "</table>\n",
       "</div>"
      ],
      "text/plain": [
       "           HP  Attack\n",
       "Type 1               \n",
       "Electric   75      95\n",
       "Fighting  240     310\n",
       "Fire      115     185\n",
       "Grass     195     270\n",
       "Normal     52      65\n",
       "Psychic   120     105\n",
       "Rock      175     295\n",
       "Water     305     250"
      ]
     },
     "execution_count": 12,
     "metadata": {},
     "output_type": "execute_result"
    }
   ],
   "source": [
    "ataquetotal"
   ]
  },
  {
   "cell_type": "code",
   "execution_count": 13,
   "metadata": {},
   "outputs": [
    {
     "data": {
      "image/png": "[encoded data removed]",
      "text/plain": [
       "<Figure size 640x480 with 1 Axes>"
      ]
     },
     "metadata": {},
     "output_type": "display_data"
    }
   ],
   "source": [
    "ataquetotal.plot(kind= \"bar\")\n",
    "plt.show()"
   ]
  },
  {
   "cell_type": "code",
   "execution_count": 14,
   "metadata": {},
   "outputs": [],
   "source": [
    "dftodos.to_excel(\"Total Players1.xlsx\")"
   ]
  },
  {
   "cell_type": "code",
   "execution_count": 15,
   "metadata": {},
   "outputs": [
    {
     "data": {
      "image/png": "[encoded data removed]",
      "text/plain": [
       "<Figure size 640x480 with 1 Axes>"
      ]
     },
     "metadata": {},
     "output_type": "display_data"
    }
   ],
   "source": [
    "ataquetotal.plot(kind= \"barh\")\n",
    "plt.show()"
   ]
  }
 ],
 "metadata": {
  "kernelspec": {
   "display_name": "Python 3",
   "language": "python",
   "name": "python3"
  },
  "language_info": {
   "codemirror_mode": {
    "name": "ipython",
    "version": 3
   },
   "file_extension": ".py",
   "mimetype": "text/x-python",
   "name": "python",
   "nbconvert_exporter": "python",
   "pygments_lexer": "ipython3",
   "version": "3.10.4"
  },
  "orig_nbformat": 4,
  "vscode": {
   "interpreter": {
    "hash": "8a5edab282632443219e051e4ade2d1d5bbc671c781051bf1437897cbdfea0f1"
   }
  }
 },
 "nbformat": 4,
 "nbformat_minor": 2
}
